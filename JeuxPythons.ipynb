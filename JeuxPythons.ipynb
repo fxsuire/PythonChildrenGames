{
 "cells": [
  {
   "cell_type": "code",
   "execution_count": 1,
   "metadata": {},
   "outputs": [
    {
     "name": "stdout",
     "output_type": "stream",
     "text": [
      "Saisis ton nom sur le clavier romane\n"
     ]
    }
   ],
   "source": [
    "import os\n",
    "\n",
    "UserName = ''\n",
    "\n",
    "os.system(\"say -v Amelie 'bonjour'\")\n",
    "os.system(\"say -v Thomas 'Comment t'appelles-tu\")\n",
    "os.system(\"say -v Zarvox 'Saisis ton nom sur le clavier'\")\n",
    "\n",
    "UserName = input(\"Saisis ton nom sur le clavier \")\n",
    "\n",
    "os.system(\"say 'ravi de te connaitre '\"+UserName )\n",
    "import random"
   ]
  },
  {
   "cell_type": "code",
   "execution_count": null,
   "metadata": {},
   "outputs": [],
   "source": []
  },
  {
   "cell_type": "code",
   "execution_count": null,
   "metadata": {},
   "outputs": [
    {
     "name": "stdout",
     "output_type": "stream",
     "text": [
      "Entre le premier nombre 2\n",
      "Entre le deuxième nombre plus grand que le premier 4\n"
     ]
    }
   ],
   "source": [
    "import random\n",
    "import os\n",
    "import sys\n",
    "\n",
    "os.system(\"say 'Saisis un premier nombre'\")\n",
    "NombreMin = input(\"Entre le premier nombre \")\n",
    "\n",
    "os.system(\"say 'Saisis le deuxième nombre'\")\n",
    "NombreMax = input(\"Entre le deuxième nombre plus grand que le premier \")\n",
    "\n",
    "try :\n",
    "    NombreMin = int(NombreMin)\n",
    "    NombreMax = int(NombreMax)\n",
    "except:\n",
    "    os.system(\"say 'il y a une erreur dans ta saisie, il faut saisir des nombres entiers. Recommence le jeu'\")\n",
    "    sys.exit()\n",
    "    exit\n",
    "\n",
    "if NombreMax < NombreMin :\n",
    "    os.system(\"say 'Le deuxième nombre doit être plus grand que le premier, recommence le jeu'\")\n",
    "    sys.exit()\n",
    "    exit\n",
    "else :\n",
    "    \n",
    "    Nombre1 = random.randint(NombreMin,NombreMax)\n",
    "    Nombre2 = random.randint(NombreMin,NombreMax)\n",
    "        \n",
    "    ChaineEnoncePb=str(\"say 'j ai sélectionné deux nombres au hasard entre \" + str(NombreMin) + \" et \" + str(NombreMax) + \"'\")\n",
    "\n",
    "    os.system(ChaineEnoncePb)\n",
    "\n",
    "    ChaineEnonceSuite = str(\"say 'Quel est le résultat de \" + str(Nombre1) + \" plus \" + str(Nombre2) + \"'\")\n",
    "\n",
    "    os.system(ChaineEnonceSuite)\n",
    "\n",
    "    Resultat = Nombre1 + Nombre2\n",
    "\n",
    "    SaisieResultat = input(\"Saisis le résultat de \" + str(Nombre1) + \" + \" + str(Nombre2)+ \" \")\n",
    "    \n",
    "    try :\n",
    "        SaisieResultat = int(SaisieResultat)\n",
    "    except:\n",
    "        os.system(\"say 'il y a une erreur dans ta saisie, il faut saisir des nombres entiers. Recommence le jeu'\")\n",
    "        sys.exit()\n",
    "    \n",
    "    if SaisieResultat !=  Resultat :\n",
    "        os.system(\"say 'Le résultat est incorrect, le bon résultat est \"+ str(Resultat) + \"' \")\n",
    "    else :\n",
    "        os.system(\"say 'bravo tu as gagné'\")\n",
    "    "
   ]
  },
  {
   "cell_type": "code",
   "execution_count": null,
   "metadata": {},
   "outputs": [],
   "source": []
  },
  {
   "cell_type": "code",
   "execution_count": null,
   "metadata": {},
   "outputs": [],
   "source": []
  },
  {
   "cell_type": "code",
   "execution_count": null,
   "metadata": {},
   "outputs": [],
   "source": []
  },
  {
   "cell_type": "code",
   "execution_count": null,
   "metadata": {},
   "outputs": [],
   "source": []
  },
  {
   "cell_type": "code",
   "execution_count": null,
   "metadata": {},
   "outputs": [],
   "source": [
    "import os\n",
    "\n",
    "os.system(\"say -v Federica 'Buon giorno signor Erra, come state?'\")"
   ]
  },
  {
   "cell_type": "code",
   "execution_count": 9,
   "metadata": {},
   "outputs": [
    {
     "name": "stdout",
     "output_type": "stream",
     "text": [
      "True\n"
     ]
    }
   ],
   "source": [
    "MaVariable=3\n",
    "\n",
    "isinstance(MaVariable,int)\n",
    "\n",
    "print(isinstance(MaVariable,int))"
   ]
  },
  {
   "cell_type": "code",
   "execution_count": null,
   "metadata": {},
   "outputs": [],
   "source": []
  },
  {
   "cell_type": "code",
   "execution_count": null,
   "metadata": {},
   "outputs": [],
   "source": []
  },
  {
   "cell_type": "code",
   "execution_count": null,
   "metadata": {},
   "outputs": [],
   "source": []
  },
  {
   "cell_type": "code",
   "execution_count": null,
   "metadata": {},
   "outputs": [],
   "source": []
  },
  {
   "cell_type": "code",
   "execution_count": null,
   "metadata": {},
   "outputs": [],
   "source": []
  },
  {
   "cell_type": "code",
   "execution_count": 10,
   "metadata": {},
   "outputs": [
    {
     "data": {
      "text/plain": [
       "0"
      ]
     },
     "execution_count": 10,
     "metadata": {},
     "output_type": "execute_result"
    }
   ],
   "source": []
  }
 ],
 "metadata": {
  "kernelspec": {
   "display_name": "Python 3",
   "language": "python",
   "name": "python3"
  },
  "language_info": {
   "codemirror_mode": {
    "name": "ipython",
    "version": 3
   },
   "file_extension": ".py",
   "mimetype": "text/x-python",
   "name": "python",
   "nbconvert_exporter": "python",
   "pygments_lexer": "ipython3",
   "version": "3.7.3"
  }
 },
 "nbformat": 4,
 "nbformat_minor": 4
}
